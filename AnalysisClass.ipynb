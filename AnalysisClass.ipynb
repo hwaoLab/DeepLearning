{
 "cells": [
  {
   "cell_type": "code",
   "execution_count": 3,
   "metadata": {
    "colab": {
     "base_uri": "https://localhost:8080/",
     "height": 98
    },
    "colab_type": "code",
    "executionInfo": {
     "elapsed": 4210,
     "status": "ok",
     "timestamp": 1573095860629,
     "user": {
      "displayName": "한강희",
      "photoUrl": "",
      "userId": "16952383305859271562"
     },
     "user_tz": -540
    },
    "id": "Njw7PHhmLpZy",
    "outputId": "b97dc89d-46c9-4df2-e545-1a8af849969c"
   },
   "outputs": [
    {
     "name": "stderr",
     "output_type": "stream",
     "text": [
      "Using TensorFlow backend.\n"
     ]
    }
   ],
   "source": [
    "import numpy as np\n",
    "import pandas as pd\n",
    "from keras.layers import Dense, Dropout\n",
    "from keras.models import Sequential\n",
    "from sklearn.preprocessing import LabelBinarizer\n",
    "import matplotlib.pyplot as plt\n",
    "import tensorflow as tf\n",
    "%matplotlib inline"
   ]
  },
  {
   "cell_type": "code",
   "execution_count": 25,
   "metadata": {
    "colab": {},
    "colab_type": "code",
    "id": "qdXhy2uHLpZ2"
   },
   "outputs": [],
   "source": [
    "class Analysis():\n",
    "    def __init__(self):\n",
    "        np.random.seed(12341324)\n",
    "        \n",
    "        #데이터 셋 생성\n",
    "    def create_dataset(self, num = 5000):\n",
    "        if num % 2 == 1:\n",
    "            return None\n",
    "        data_len = int(num / 2)\n",
    "        return np.random.random(num).reshape(data_len , 2)\n",
    "        \n",
    "        # 데이터 플로팅\n",
    "    def plot_data(self, data):\n",
    "        if len(data.shape) != 2 :\n",
    "            print('데이터를 확인해주세요.')\n",
    "            return\n",
    "        plt.figure(figsize=(7, 7))\n",
    "        plt.plot(data[:, 0], data[:, 1], 'b.')\n",
    "        plt.xlabel('x1')\n",
    "        plt.ylabel('x2')\n",
    "        plt.grid(True)\n",
    "        plt.show()\n",
    "        \n",
    "        # 데이터 분류\n",
    "    def classify_data(self, data):\n",
    "        target = []\n",
    "        for i in range(len(data)):\n",
    "            if data[i, 0] < 0.5 and data[i, 1] < 0.5:\n",
    "                target.append('type0')\n",
    "            elif data[i, 0] >= 0.5 and data[i, 1] < 0.5:\n",
    "                target.append('type1')\n",
    "            elif data[i, 0] < 0.5 and data[i, 1] >= 0.5:\n",
    "                target.append('type2')\n",
    "            elif data[i, 0] >= 0.5 and data[i, 1] >= 0.5:\n",
    "                target.append('type3')\n",
    "        return np.array(target)\n",
    "    \n",
    "        # 데이터 인코딩\n",
    "    def encode_data(self, target):\n",
    "        encoder = LabelBinarizer()\n",
    "        target = encoder.fit_transform(target)\n",
    "        return target\n",
    "        \n",
    "        # percent를 이용한 train test 데이터 구분\n",
    "    def get_train_And_test(self, data, percent = 80):\n",
    "        if percent > 100 :\n",
    "            print('파라미터를 확인해주세요')\n",
    "            return \n",
    "        criteria = int((len(data) * percent) / 100)\n",
    "        print('기준 ', criteria)\n",
    "        return (data[0 : criteria], data[criteria : ])\n",
    "    \n",
    "        # 모델 생성\n",
    "    def create_model(self, x_train, t_train, epoch_num = 60, batch_num = 16, activation = 'sigmoid'):\n",
    "        model = Sequential()\n",
    "        model.add(Dense(16, input_dim = 2, activation = 'sigmoid' ))\n",
    "        model.add(Dense(16, activation = 'sigmoid' ))\n",
    "        model.add(Dense(4, activation = 'softmax'))\n",
    "        model.compile(loss = 'categorical_crossentropy', optimizer = 'adam', metrics = ['accuracy'])\n",
    "        hist = model.fit(x_train, t_train, epochs = epoch_num, batch_size = batch_num)\n",
    "        return (model, hist)\n",
    "    \n",
    "        # history 플로팅\n",
    "    def plot_history(self, hist):\n",
    "        plt.figure(figsize = (15, 5))\n",
    "        plt.plot(hist.history['loss'], 'y', label = 'loss')\n",
    "        plt.plot(hist.history['accuracy'], 'b', label = 'accuracy')\n",
    "        plt.xlabel('epoch')\n",
    "        plt.legend(loc = 'best')\n",
    "        plt.show()\n",
    "        \n",
    "        # 모델 평가\n",
    "    def evaluate_model(self, model, x_test, t_test):\n",
    "        return model.evaluate(x_test, t_test)"
   ]
  },
  {
   "cell_type": "code",
   "execution_count": 5,
   "metadata": {
    "colab": {},
    "colab_type": "code",
    "id": "CD2rbl2ILpZ4"
   },
   "outputs": [],
   "source": [
    "analysis = Analysis()"
   ]
  },
  {
   "cell_type": "code",
   "execution_count": 6,
   "metadata": {
    "colab": {
     "base_uri": "https://localhost:8080/",
     "height": 105
    },
    "colab_type": "code",
    "executionInfo": {
     "elapsed": 816,
     "status": "ok",
     "timestamp": 1573095926227,
     "user": {
      "displayName": "한강희",
      "photoUrl": "",
      "userId": "16952383305859271562"
     },
     "user_tz": -540
    },
    "id": "pAkqp1vmLpZ6",
    "outputId": "e409126a-b18e-4c4e-eed5-8cd178de6175"
   },
   "outputs": [
    {
     "name": "stdout",
     "output_type": "stream",
     "text": [
      "[[0.53611486 0.33261872]\n",
      " [0.67773492 0.08546784]\n",
      " [0.74827761 0.53073078]\n",
      " [0.81486819 0.48834371]\n",
      " [0.52936037 0.72605929]]\n"
     ]
    }
   ],
   "source": [
    "data = analysis.create_dataset(1000)\n",
    "print(data[0 : 5])"
   ]
  },
  {
   "cell_type": "code",
   "execution_count": 7,
   "metadata": {
    "colab": {
     "base_uri": "https://localhost:8080/",
     "height": 442
    },
    "colab_type": "code",
    "executionInfo": {
     "elapsed": 905,
     "status": "ok",
     "timestamp": 1573095944764,
     "user": {
      "displayName": "한강희",
      "photoUrl": "",
      "userId": "16952383305859271562"
     },
     "user_tz": -540
    },
    "id": "mn0xWgxGLpZ9",
    "outputId": "e3ae29a3-0e72-4bb1-a85a-17199f7ce9ef"
   },
   "outputs": [
    {
     "data": {
      "image/png": "[encoded data removed]",
      "text/plain": [
       "<Figure size 504x504 with 1 Axes>"
      ]
     },
     "metadata": {
      "needs_background": "light"
     },
     "output_type": "display_data"
    }
   ],
   "source": [
    "analysis.plot_data(data)"
   ]
  },
  {
   "cell_type": "code",
   "execution_count": 8,
   "metadata": {
    "colab": {
     "base_uri": "https://localhost:8080/",
     "height": 122
    },
    "colab_type": "code",
    "executionInfo": {
     "elapsed": 725,
     "status": "ok",
     "timestamp": 1573096122289,
     "user": {
      "displayName": "한강희",
      "photoUrl": "",
      "userId": "16952383305859271562"
     },
     "user_tz": -540
    },
    "id": "xg5y0g-BLpZ_",
    "outputId": "3226f5ff-a5bd-4897-fe7a-a548d20c3c3c"
   },
   "outputs": [
    {
     "name": "stdout",
     "output_type": "stream",
     "text": [
      "['type1' 'type1' 'type3' 'type1' 'type3']\n",
      "[[0.53611486 0.33261872]\n",
      " [0.67773492 0.08546784]\n",
      " [0.74827761 0.53073078]\n",
      " [0.81486819 0.48834371]\n",
      " [0.52936037 0.72605929]]\n"
     ]
    }
   ],
   "source": [
    "target = analysis.classify_data(data)\n",
    "print(target[0 : 5])\n",
    "print(data[0:5])"
   ]
  },
  {
   "cell_type": "code",
   "execution_count": 9,
   "metadata": {
    "colab": {
     "base_uri": "https://localhost:8080/",
     "height": 87
    },
    "colab_type": "code",
    "executionInfo": {
     "elapsed": 733,
     "status": "ok",
     "timestamp": 1573096190164,
     "user": {
      "displayName": "한강희",
      "photoUrl": "",
      "userId": "16952383305859271562"
     },
     "user_tz": -540
    },
    "id": "5t6F-Ith1mR1",
    "outputId": "9ec291c6-7cbb-43ff-e438-d0c5d4e72182"
   },
   "outputs": [
    {
     "name": "stdout",
     "output_type": "stream",
     "text": [
      "126\n",
      "125\n",
      "121\n",
      "128\n"
     ]
    }
   ],
   "source": [
    "print(len(target[target=='type0']))\n",
    "print(len(target[target=='type1']))\n",
    "print(len(target[target=='type2']))\n",
    "print(len(target[target=='type3']))\n"
   ]
  },
  {
   "cell_type": "code",
   "execution_count": 10,
   "metadata": {
    "colab": {
     "base_uri": "https://localhost:8080/",
     "height": 193
    },
    "colab_type": "code",
    "executionInfo": {
     "elapsed": 704,
     "status": "ok",
     "timestamp": 1573096348899,
     "user": {
      "displayName": "한강희",
      "photoUrl": "",
      "userId": "16952383305859271562"
     },
     "user_tz": -540
    },
    "id": "xTMZj4ouLpaB",
    "outputId": "fd3cda51-4d22-4ec9-de0b-6cfd23e69f95"
   },
   "outputs": [
    {
     "name": "stdout",
     "output_type": "stream",
     "text": [
      "[[0 1 0 0]\n",
      " [0 1 0 0]\n",
      " [0 0 0 1]\n",
      " [0 1 0 0]\n",
      " [0 0 0 1]\n",
      " [0 0 0 1]\n",
      " [1 0 0 0]\n",
      " [0 0 0 1]\n",
      " [0 0 1 0]\n",
      " [1 0 0 0]]\n"
     ]
    }
   ],
   "source": [
    "encoded_target = analysis.encode_data(target)\n",
    "print(encoded_target[0:10])"
   ]
  },
  {
   "cell_type": "code",
   "execution_count": 21,
   "metadata": {
    "colab": {
     "base_uri": "https://localhost:8080/",
     "height": 193
    },
    "colab_type": "code",
    "executionInfo": {
     "elapsed": 706,
     "status": "ok",
     "timestamp": 1573096528235,
     "user": {
      "displayName": "한강희",
      "photoUrl": "",
      "userId": "16952383305859271562"
     },
     "user_tz": -540
    },
    "id": "I5hU11HXLpaD",
    "outputId": "f8f0980f-47a3-406c-ed32-8a281bf23d48"
   },
   "outputs": [
    {
     "name": "stdout",
     "output_type": "stream",
     "text": [
      "기준  400\n",
      "[[0.53611486 0.33261872]\n",
      " [0.67773492 0.08546784]\n",
      " [0.74827761 0.53073078]\n",
      " [0.81486819 0.48834371]]\n",
      "기준  400\n",
      "[[0 1 0 0]\n",
      " [0 1 0 0]\n",
      " [0 0 0 1]\n",
      " [0 1 0 0]]\n",
      "(400, 2) (400, 4)\n"
     ]
    }
   ],
   "source": [
    "(x_train, x_test) = analysis.get_train_And_test(data, 80)\n",
    "print(x_train[0 : 4])\n",
    "\n",
    "\n",
    "(t_train, t_test) = analysis.get_train_And_test(encoded_target, 80)\n",
    "print(t_train[0 : 4])\n",
    "print(x_train.shape,t_train.shape)"
   ]
  },
  {
   "cell_type": "code",
   "execution_count": 12,
   "metadata": {
    "colab": {
     "base_uri": "https://localhost:8080/",
     "height": 1000
    },
    "colab_type": "code",
    "executionInfo": {
     "elapsed": 5516,
     "status": "ok",
     "timestamp": 1573097203408,
     "user": {
      "displayName": "한강희",
      "photoUrl": "",
      "userId": "16952383305859271562"
     },
     "user_tz": -540
    },
    "id": "GyKYq2vFLpaF",
    "outputId": "9139e0b0-c349-44e6-c38a-bfd80975a7f9"
   },
   "outputs": [
    {
     "name": "stdout",
     "output_type": "stream",
     "text": [
      "Epoch 1/100\n",
      "400/400 [==============================] - 0s 684us/step - loss: 1.3888 - accuracy: 0.3425\n",
      "Epoch 2/100\n",
      "400/400 [==============================] - 0s 108us/step - loss: 1.3791 - accuracy: 0.4000\n",
      "Epoch 3/100\n",
      "400/400 [==============================] - 0s 99us/step - loss: 1.3752 - accuracy: 0.3900\n",
      "Epoch 4/100\n",
      "400/400 [==============================] - 0s 89us/step - loss: 1.3726 - accuracy: 0.3925\n",
      "Epoch 5/100\n",
      "400/400 [==============================] - 0s 102us/step - loss: 1.3710 - accuracy: 0.2725\n",
      "Epoch 6/100\n",
      "400/400 [==============================] - 0s 125us/step - loss: 1.3685 - accuracy: 0.4600\n",
      "Epoch 7/100\n",
      "400/400 [==============================] - 0s 130us/step - loss: 1.3665 - accuracy: 0.4375\n",
      "Epoch 8/100\n",
      "400/400 [==============================] - 0s 131us/step - loss: 1.3617 - accuracy: 0.3950\n",
      "Epoch 9/100\n",
      "400/400 [==============================] - 0s 140us/step - loss: 1.3593 - accuracy: 0.4075\n",
      "Epoch 10/100\n",
      "400/400 [==============================] - 0s 134us/step - loss: 1.3556 - accuracy: 0.6125\n",
      "Epoch 11/100\n",
      "400/400 [==============================] - 0s 128us/step - loss: 1.3527 - accuracy: 0.6600\n",
      "Epoch 12/100\n",
      "400/400 [==============================] - 0s 133us/step - loss: 1.3497 - accuracy: 0.5600\n",
      "Epoch 13/100\n",
      "400/400 [==============================] - 0s 134us/step - loss: 1.3469 - accuracy: 0.3600\n",
      "Epoch 14/100\n",
      "400/400 [==============================] - 0s 126us/step - loss: 1.3414 - accuracy: 0.5875\n",
      "Epoch 15/100\n",
      "400/400 [==============================] - 0s 128us/step - loss: 1.3376 - accuracy: 0.4650\n",
      "Epoch 16/100\n",
      "400/400 [==============================] - 0s 124us/step - loss: 1.3325 - accuracy: 0.6000\n",
      "Epoch 17/100\n",
      "400/400 [==============================] - 0s 128us/step - loss: 1.3295 - accuracy: 0.6100\n",
      "Epoch 18/100\n",
      "400/400 [==============================] - 0s 134us/step - loss: 1.3242 - accuracy: 0.6650\n",
      "Epoch 19/100\n",
      "400/400 [==============================] - 0s 145us/step - loss: 1.3173 - accuracy: 0.6500\n",
      "Epoch 20/100\n",
      "400/400 [==============================] - 0s 134us/step - loss: 1.3113 - accuracy: 0.6275\n",
      "Epoch 21/100\n",
      "400/400 [==============================] - 0s 129us/step - loss: 1.3043 - accuracy: 0.6125\n",
      "Epoch 22/100\n",
      "400/400 [==============================] - 0s 131us/step - loss: 1.2981 - accuracy: 0.6600\n",
      "Epoch 23/100\n",
      "400/400 [==============================] - 0s 125us/step - loss: 1.2909 - accuracy: 0.7125\n",
      "Epoch 24/100\n",
      "400/400 [==============================] - 0s 130us/step - loss: 1.2835 - accuracy: 0.5900\n",
      "Epoch 25/100\n",
      "400/400 [==============================] - 0s 130us/step - loss: 1.2728 - accuracy: 0.6600\n",
      "Epoch 26/100\n",
      "400/400 [==============================] - 0s 126us/step - loss: 1.2641 - accuracy: 0.8000\n",
      "Epoch 27/100\n",
      "400/400 [==============================] - 0s 131us/step - loss: 1.2530 - accuracy: 0.7925\n",
      "Epoch 28/100\n",
      "400/400 [==============================] - 0s 130us/step - loss: 1.2428 - accuracy: 0.7575\n",
      "Epoch 29/100\n",
      "400/400 [==============================] - 0s 128us/step - loss: 1.2314 - accuracy: 0.8100\n",
      "Epoch 30/100\n",
      "400/400 [==============================] - 0s 125us/step - loss: 1.2187 - accuracy: 0.8050\n",
      "Epoch 31/100\n",
      "400/400 [==============================] - 0s 126us/step - loss: 1.2058 - accuracy: 0.7625\n",
      "Epoch 32/100\n",
      "400/400 [==============================] - 0s 125us/step - loss: 1.1914 - accuracy: 0.8450\n",
      "Epoch 33/100\n",
      "400/400 [==============================] - 0s 129us/step - loss: 1.1764 - accuracy: 0.8000\n",
      "Epoch 34/100\n",
      "400/400 [==============================] - 0s 125us/step - loss: 1.1604 - accuracy: 0.8275\n",
      "Epoch 35/100\n",
      "400/400 [==============================] - 0s 134us/step - loss: 1.1444 - accuracy: 0.7900\n",
      "Epoch 36/100\n",
      "400/400 [==============================] - 0s 122us/step - loss: 1.1266 - accuracy: 0.8700\n",
      "Epoch 37/100\n",
      "400/400 [==============================] - 0s 131us/step - loss: 1.1087 - accuracy: 0.9125\n",
      "Epoch 38/100\n",
      "400/400 [==============================] - 0s 130us/step - loss: 1.0917 - accuracy: 0.8600\n",
      "Epoch 39/100\n",
      "400/400 [==============================] - 0s 125us/step - loss: 1.0700 - accuracy: 0.9050\n",
      "Epoch 40/100\n",
      "400/400 [==============================] - 0s 134us/step - loss: 1.0522 - accuracy: 0.8600\n",
      "Epoch 41/100\n",
      "400/400 [==============================] - 0s 130us/step - loss: 1.0300 - accuracy: 0.8900\n",
      "Epoch 42/100\n",
      "400/400 [==============================] - 0s 128us/step - loss: 1.0121 - accuracy: 0.8975\n",
      "Epoch 43/100\n",
      "400/400 [==============================] - 0s 126us/step - loss: 0.9923 - accuracy: 0.9200\n",
      "Epoch 44/100\n",
      "400/400 [==============================] - 0s 130us/step - loss: 0.9695 - accuracy: 0.9400\n",
      "Epoch 45/100\n",
      "400/400 [==============================] - 0s 128us/step - loss: 0.9504 - accuracy: 0.9150\n",
      "Epoch 46/100\n",
      "400/400 [==============================] - 0s 128us/step - loss: 0.9260 - accuracy: 0.9150\n",
      "Epoch 47/100\n",
      "400/400 [==============================] - 0s 125us/step - loss: 0.9052 - accuracy: 0.9350\n",
      "Epoch 48/100\n",
      "400/400 [==============================] - 0s 125us/step - loss: 0.8848 - accuracy: 0.9325\n",
      "Epoch 49/100\n",
      "400/400 [==============================] - 0s 130us/step - loss: 0.8630 - accuracy: 0.9625\n",
      "Epoch 50/100\n",
      "400/400 [==============================] - 0s 128us/step - loss: 0.8434 - accuracy: 0.9425\n",
      "Epoch 51/100\n",
      "400/400 [==============================] - 0s 125us/step - loss: 0.8223 - accuracy: 0.9500\n",
      "Epoch 52/100\n",
      "400/400 [==============================] - 0s 131us/step - loss: 0.8016 - accuracy: 0.9475\n",
      "Epoch 53/100\n",
      "400/400 [==============================] - 0s 130us/step - loss: 0.7809 - accuracy: 0.9625\n",
      "Epoch 54/100\n",
      "400/400 [==============================] - 0s 124us/step - loss: 0.7627 - accuracy: 0.9650\n",
      "Epoch 55/100\n",
      "400/400 [==============================] - 0s 131us/step - loss: 0.7421 - accuracy: 0.9625\n",
      "Epoch 56/100\n",
      "400/400 [==============================] - 0s 125us/step - loss: 0.7241 - accuracy: 0.9550\n",
      "Epoch 57/100\n",
      "400/400 [==============================] - 0s 123us/step - loss: 0.7053 - accuracy: 0.9300\n",
      "Epoch 58/100\n",
      "400/400 [==============================] - 0s 120us/step - loss: 0.6869 - accuracy: 0.9550\n",
      "Epoch 59/100\n",
      "400/400 [==============================] - 0s 125us/step - loss: 0.6683 - accuracy: 0.9575\n",
      "Epoch 60/100\n",
      "400/400 [==============================] - 0s 122us/step - loss: 0.6521 - accuracy: 0.9625\n",
      "Epoch 61/100\n",
      "400/400 [==============================] - 0s 123us/step - loss: 0.6338 - accuracy: 0.9575\n",
      "Epoch 62/100\n",
      "400/400 [==============================] - 0s 123us/step - loss: 0.6178 - accuracy: 0.9600\n",
      "Epoch 63/100\n",
      "400/400 [==============================] - 0s 129us/step - loss: 0.6021 - accuracy: 0.9600\n",
      "Epoch 64/100\n",
      "400/400 [==============================] - 0s 124us/step - loss: 0.5864 - accuracy: 0.9500\n",
      "Epoch 65/100\n",
      "400/400 [==============================] - 0s 124us/step - loss: 0.5715 - accuracy: 0.9600\n",
      "Epoch 66/100\n",
      "400/400 [==============================] - 0s 124us/step - loss: 0.5572 - accuracy: 0.9600\n",
      "Epoch 67/100\n",
      "400/400 [==============================] - 0s 126us/step - loss: 0.5434 - accuracy: 0.9575\n",
      "Epoch 68/100\n",
      "400/400 [==============================] - 0s 126us/step - loss: 0.5298 - accuracy: 0.9625\n",
      "Epoch 69/100\n",
      "400/400 [==============================] - 0s 125us/step - loss: 0.5166 - accuracy: 0.9625\n",
      "Epoch 70/100\n",
      "400/400 [==============================] - 0s 128us/step - loss: 0.5052 - accuracy: 0.9575\n",
      "Epoch 71/100\n",
      "400/400 [==============================] - 0s 128us/step - loss: 0.4936 - accuracy: 0.9650\n",
      "Epoch 72/100\n",
      "400/400 [==============================] - 0s 133us/step - loss: 0.4832 - accuracy: 0.9500\n",
      "Epoch 73/100\n",
      "400/400 [==============================] - 0s 128us/step - loss: 0.4695 - accuracy: 0.9650\n",
      "Epoch 74/100\n",
      "400/400 [==============================] - 0s 124us/step - loss: 0.4598 - accuracy: 0.9675\n",
      "Epoch 75/100\n",
      "400/400 [==============================] - 0s 126us/step - loss: 0.4504 - accuracy: 0.9575\n",
      "Epoch 76/100\n",
      "400/400 [==============================] - 0s 124us/step - loss: 0.4390 - accuracy: 0.9625\n",
      "Epoch 77/100\n",
      "400/400 [==============================] - 0s 143us/step - loss: 0.4298 - accuracy: 0.9650\n",
      "Epoch 78/100\n",
      "400/400 [==============================] - 0s 123us/step - loss: 0.4209 - accuracy: 0.9600\n",
      "Epoch 79/100\n"
     ]
    },
    {
     "name": "stdout",
     "output_type": "stream",
     "text": [
      "400/400 [==============================] - 0s 125us/step - loss: 0.4129 - accuracy: 0.9550\n",
      "Epoch 80/100\n",
      "400/400 [==============================] - 0s 128us/step - loss: 0.4038 - accuracy: 0.9650\n",
      "Epoch 81/100\n",
      "400/400 [==============================] - 0s 122us/step - loss: 0.3957 - accuracy: 0.9625\n",
      "Epoch 82/100\n",
      "400/400 [==============================] - 0s 125us/step - loss: 0.3878 - accuracy: 0.9700\n",
      "Epoch 83/100\n",
      "400/400 [==============================] - 0s 119us/step - loss: 0.3805 - accuracy: 0.9650\n",
      "Epoch 84/100\n",
      "400/400 [==============================] - 0s 120us/step - loss: 0.3726 - accuracy: 0.9650\n",
      "Epoch 85/100\n",
      "400/400 [==============================] - 0s 120us/step - loss: 0.3661 - accuracy: 0.9625\n",
      "Epoch 86/100\n",
      "400/400 [==============================] - 0s 123us/step - loss: 0.3595 - accuracy: 0.9650\n",
      "Epoch 87/100\n",
      "400/400 [==============================] - 0s 123us/step - loss: 0.3523 - accuracy: 0.9650\n",
      "Epoch 88/100\n",
      "400/400 [==============================] - 0s 120us/step - loss: 0.3465 - accuracy: 0.9650\n",
      "Epoch 89/100\n",
      "400/400 [==============================] - 0s 122us/step - loss: 0.3406 - accuracy: 0.9625\n",
      "Epoch 90/100\n",
      "400/400 [==============================] - 0s 128us/step - loss: 0.3349 - accuracy: 0.9700\n",
      "Epoch 91/100\n",
      "400/400 [==============================] - 0s 123us/step - loss: 0.3290 - accuracy: 0.9650\n",
      "Epoch 92/100\n",
      "400/400 [==============================] - 0s 124us/step - loss: 0.3238 - accuracy: 0.9650\n",
      "Epoch 93/100\n",
      "400/400 [==============================] - 0s 123us/step - loss: 0.3187 - accuracy: 0.9675\n",
      "Epoch 94/100\n",
      "400/400 [==============================] - 0s 133us/step - loss: 0.3138 - accuracy: 0.9600\n",
      "Epoch 95/100\n",
      "400/400 [==============================] - 0s 126us/step - loss: 0.3077 - accuracy: 0.9625\n",
      "Epoch 96/100\n",
      "400/400 [==============================] - 0s 126us/step - loss: 0.3033 - accuracy: 0.9700\n",
      "Epoch 97/100\n",
      "400/400 [==============================] - 0s 123us/step - loss: 0.2986 - accuracy: 0.9650\n",
      "Epoch 98/100\n",
      "400/400 [==============================] - 0s 123us/step - loss: 0.2944 - accuracy: 0.9675\n",
      "Epoch 99/100\n",
      "400/400 [==============================] - 0s 124us/step - loss: 0.2901 - accuracy: 0.9650\n",
      "Epoch 100/100\n",
      "400/400 [==============================] - 0s 123us/step - loss: 0.2853 - accuracy: 0.9675\n"
     ]
    }
   ],
   "source": [
    "(model, hist) = analysis.create_model(x_train, t_train, 100, 16)\n",
    "#객체 2개 생성 \n"
   ]
  },
  {
   "cell_type": "code",
   "execution_count": 13,
   "metadata": {
    "colab": {},
    "colab_type": "code",
    "id": "X1qusNj3LpaH",
    "outputId": "d54addd3-1c46-49c1-90ec-830edea8b6ae"
   },
   "outputs": [
    {
     "data": {
      "image/png": "[encoded data removed]",
      "text/plain": [
       "<Figure size 1080x360 with 1 Axes>"
      ]
     },
     "metadata": {
      "needs_background": "light"
     },
     "output_type": "display_data"
    }
   ],
   "source": [
    "analysis.plot_history(hist)"
   ]
  },
  {
   "cell_type": "code",
   "execution_count": 14,
   "metadata": {
    "colab": {
     "base_uri": "https://localhost:8080/",
     "height": 52
    },
    "colab_type": "code",
    "executionInfo": {
     "elapsed": 1014,
     "status": "ok",
     "timestamp": 1573097431134,
     "user": {
      "displayName": "한강희",
      "photoUrl": "",
      "userId": "16952383305859271562"
     },
     "user_tz": -540
    },
    "id": "eVu1hP97LpaJ",
    "outputId": "79174cc2-4e39-4b4a-d4d6-24f8d5b1be18"
   },
   "outputs": [
    {
     "name": "stdout",
     "output_type": "stream",
     "text": [
      "100/100 [==============================] - 0s 446us/step\n"
     ]
    },
    {
     "data": {
      "text/plain": [
       "[0.2908663547039032, 0.9399999976158142]"
      ]
     },
     "execution_count": 14,
     "metadata": {},
     "output_type": "execute_result"
    }
   ],
   "source": [
    "analysis.evaluate_model(model, x_test, t_test)"
   ]
  },
  {
   "cell_type": "code",
   "execution_count": 15,
   "metadata": {
    "colab": {},
    "colab_type": "code",
    "id": "7z_OY-IYLpaM",
    "scrolled": false
   },
   "outputs": [
    {
     "name": "stdout",
     "output_type": "stream",
     "text": [
      "(400, 2)\n"
     ]
    }
   ],
   "source": [
    "print(x_train.shape)"
   ]
  },
  {
   "cell_type": "code",
   "execution_count": null,
   "metadata": {},
   "outputs": [],
   "source": []
  }
 ],
 "metadata": {
  "colab": {
   "collapsed_sections": [],
   "name": "AnalysisClass.ipynb",
   "provenance": []
  },
  "kernelspec": {
   "display_name": "Python 3",
   "language": "python",
   "name": "python3"
  },
  "language_info": {
   "codemirror_mode": {
    "name": "ipython",
    "version": 3
   },
   "file_extension": ".py",
   "mimetype": "text/x-python",
   "name": "python",
   "nbconvert_exporter": "python",
   "pygments_lexer": "ipython3",
   "version": "3.7.4"
  }
 },
 "nbformat": 4,
 "nbformat_minor": 1
}
