{
 "cells": [
  {
   "cell_type": "code",
   "execution_count": 1,
   "metadata": {
    "scrolled": true
   },
   "outputs": [
    {
     "name": "stderr",
     "output_type": "stream",
     "text": [
      "Using TensorFlow backend.\n"
     ]
    }
   ],
   "source": [
    "import numpy as np\n",
    "from keras.models import Sequential\n",
    "from keras.layers import Dense\n",
    "from keras.utils import to_categorical\n",
    "import random\n",
    "import pandas as pd\n",
    "from sklearn.preprocessing import StandardScaler\n",
    "from sklearn.model_selection import train_test_split\n",
    "import matplotlib.pyplot as plt"
   ]
  },
  {
   "cell_type": "code",
   "execution_count": 2,
   "metadata": {},
   "outputs": [],
   "source": [
    "music_file1 = pd.read_csv(\"data_music.csv\",  encoding = \"ISO-8859-1\")\n",
    "#music_file2 =  pd.read_csv(\"data_music.csv\",  encoding = \"ISO-8859-1\")\n",
    "music_file2 = pd.read_csv(\"data_music2.csv\", encoding= \"ISO-8859-1\")\n",
    "music_total = pd.concat([music_file1,music_file2], ignore_index=True)"
   ]
  },
  {
   "cell_type": "code",
   "execution_count": 3,
   "metadata": {},
   "outputs": [],
   "source": [
    "music_total = music_total.drop('filename',1)\n",
    "music_total = music_total.fillna(music_total.mean())"
   ]
  },
  {
   "cell_type": "code",
   "execution_count": 4,
   "metadata": {
    "scrolled": false
   },
   "outputs": [],
   "source": [
    "xData = music_total.iloc[:,:28]\n",
    "yData = music_total['label']\n",
    "\n",
    "\n",
    "\n",
    "#xData 정규화\n",
    "std_scaler = StandardScaler()\n",
    "std_scaler.fit(xData)\n",
    "xData1 = std_scaler.transform(xData)\n",
    "xData1 = pd.DataFrame(xData1, columns=xData.columns, index=list(xData.index.values))"
   ]
  },
  {
   "cell_type": "code",
   "execution_count": 5,
   "metadata": {},
   "outputs": [],
   "source": [
    "yData = pd.get_dummies(yData) \n",
    "x_train,x_test,y_train,y_test = train_test_split(xData1,yData,random_state=0)"
   ]
  },
  {
   "cell_type": "code",
   "execution_count": 6,
   "metadata": {},
   "outputs": [],
   "source": [
    "model = Sequential()\n",
    "#model.add(Dense(64, input_dim=28, activation='relu'))\n",
    "model.add(Dense(16, input_dim=28, activation='relu'))\n",
    "model.add(Dense(16, activation='sigmoid'))\n",
    "model.add(Dense(10, activation='softmax')) \n",
    "#[ ~,~ , ~,~] 확률로 output이 제공되는데, sofrmax를 사용하면, 모든 값의 합이 1이어야한다.\n",
    "#높을 수록 해당 분류에 속할 가능성이 높다.\n",
    "#sigmoid는 값으로 제공된다. \n",
    "#relu는 o,x값으로 분류한다.(sigmoid를 적용할 경우, layer수를 늘리게 되면, gradient 방향으로 진행됐을때, 값이 0에 가까워져 예측이 명확하지 않음.)\n",
    "\n",
    " "
   ]
  },
  {
   "cell_type": "code",
   "execution_count": 7,
   "metadata": {},
   "outputs": [],
   "source": [
    "#model.compile(optimizer='rmsprop', loss='categorical_crossentropy', metrics=['accuracy'])\n",
    "model.compile(optimizer='adam', loss='categorical_crossentropy', metrics=['accuracy'])"
   ]
  },
  {
   "cell_type": "code",
   "execution_count": 8,
   "metadata": {
    "scrolled": false
   },
   "outputs": [
    {
     "name": "stdout",
     "output_type": "stream",
     "text": [
      "Epoch 1/100\n",
      "900/900 [==============================] - 0s 173us/step - loss: 2.4423 - accuracy: 0.0733\n",
      "Epoch 2/100\n",
      "900/900 [==============================] - 0s 25us/step - loss: 2.3437 - accuracy: 0.0833\n",
      "Epoch 3/100\n",
      "900/900 [==============================] - 0s 27us/step - loss: 2.2699 - accuracy: 0.1689\n",
      "Epoch 4/100\n",
      "900/900 [==============================] - 0s 31us/step - loss: 2.2083 - accuracy: 0.2200\n",
      "Epoch 5/100\n",
      "900/900 [==============================] - 0s 31us/step - loss: 2.1564 - accuracy: 0.2767\n",
      "Epoch 6/100\n",
      "900/900 [==============================] - 0s 24us/step - loss: 2.1093 - accuracy: 0.3422\n",
      "Epoch 7/100\n",
      "900/900 [==============================] - 0s 25us/step - loss: 2.0668 - accuracy: 0.3367\n",
      "Epoch 8/100\n",
      "900/900 [==============================] - 0s 24us/step - loss: 2.0267 - accuracy: 0.3411\n",
      "Epoch 9/100\n",
      "900/900 [==============================] - 0s 25us/step - loss: 1.9887 - accuracy: 0.3456\n",
      "Epoch 10/100\n",
      "900/900 [==============================] - 0s 29us/step - loss: 1.9528 - accuracy: 0.3511\n",
      "Epoch 11/100\n",
      "900/900 [==============================] - 0s 29us/step - loss: 1.9173 - accuracy: 0.3544\n",
      "Epoch 12/100\n",
      "900/900 [==============================] - 0s 30us/step - loss: 1.8819 - accuracy: 0.3667\n",
      "Epoch 13/100\n",
      "900/900 [==============================] - 0s 28us/step - loss: 1.8482 - accuracy: 0.3722\n",
      "Epoch 14/100\n",
      "900/900 [==============================] - 0s 26us/step - loss: 1.8165 - accuracy: 0.3789\n",
      "Epoch 15/100\n",
      "900/900 [==============================] - 0s 26us/step - loss: 1.7858 - accuracy: 0.3878\n",
      "Epoch 16/100\n",
      "900/900 [==============================] - 0s 30us/step - loss: 1.7567 - accuracy: 0.4022\n",
      "Epoch 17/100\n",
      "900/900 [==============================] - 0s 22us/step - loss: 1.7301 - accuracy: 0.4167\n",
      "Epoch 18/100\n",
      "900/900 [==============================] - 0s 24us/step - loss: 1.7041 - accuracy: 0.4244\n",
      "Epoch 19/100\n",
      "900/900 [==============================] - 0s 26us/step - loss: 1.6797 - accuracy: 0.4200\n",
      "Epoch 20/100\n",
      "900/900 [==============================] - 0s 29us/step - loss: 1.6562 - accuracy: 0.4233\n",
      "Epoch 21/100\n",
      "900/900 [==============================] - 0s 26us/step - loss: 1.6338 - accuracy: 0.4356\n",
      "Epoch 22/100\n",
      "900/900 [==============================] - 0s 35us/step - loss: 1.6128 - accuracy: 0.4511\n",
      "Epoch 23/100\n",
      "900/900 [==============================] - 0s 31us/step - loss: 1.5915 - accuracy: 0.4733\n",
      "Epoch 24/100\n",
      "900/900 [==============================] - 0s 31us/step - loss: 1.5726 - accuracy: 0.4956\n",
      "Epoch 25/100\n",
      "900/900 [==============================] - 0s 25us/step - loss: 1.5529 - accuracy: 0.5033\n",
      "Epoch 26/100\n",
      "900/900 [==============================] - 0s 35us/step - loss: 1.5348 - accuracy: 0.5100\n",
      "Epoch 27/100\n",
      "900/900 [==============================] - 0s 31us/step - loss: 1.5181 - accuracy: 0.5089\n",
      "Epoch 28/100\n",
      "900/900 [==============================] - 0s 31us/step - loss: 1.5022 - accuracy: 0.5089\n",
      "Epoch 29/100\n",
      "900/900 [==============================] - 0s 35us/step - loss: 1.4866 - accuracy: 0.5156\n",
      "Epoch 30/100\n",
      "900/900 [==============================] - 0s 31us/step - loss: 1.4720 - accuracy: 0.5200\n",
      "Epoch 31/100\n",
      "900/900 [==============================] - 0s 27us/step - loss: 1.4579 - accuracy: 0.5211\n",
      "Epoch 32/100\n",
      "900/900 [==============================] - 0s 24us/step - loss: 1.4439 - accuracy: 0.5256\n",
      "Epoch 33/100\n",
      "900/900 [==============================] - 0s 27us/step - loss: 1.4312 - accuracy: 0.5333\n",
      "Epoch 34/100\n",
      "900/900 [==============================] - 0s 33us/step - loss: 1.4190 - accuracy: 0.5322\n",
      "Epoch 35/100\n",
      "900/900 [==============================] - 0s 26us/step - loss: 1.4076 - accuracy: 0.5300\n",
      "Epoch 36/100\n",
      "900/900 [==============================] - 0s 28us/step - loss: 1.3960 - accuracy: 0.5433\n",
      "Epoch 37/100\n",
      "900/900 [==============================] - 0s 25us/step - loss: 1.3862 - accuracy: 0.5356\n",
      "Epoch 38/100\n",
      "900/900 [==============================] - 0s 22us/step - loss: 1.3766 - accuracy: 0.5411\n",
      "Epoch 39/100\n",
      "900/900 [==============================] - 0s 24us/step - loss: 1.3653 - accuracy: 0.5500\n",
      "Epoch 40/100\n",
      "900/900 [==============================] - 0s 26us/step - loss: 1.3556 - accuracy: 0.5511\n",
      "Epoch 41/100\n",
      "900/900 [==============================] - 0s 27us/step - loss: 1.3461 - accuracy: 0.5567\n",
      "Epoch 42/100\n",
      "900/900 [==============================] - 0s 29us/step - loss: 1.3373 - accuracy: 0.5511\n",
      "Epoch 43/100\n",
      "900/900 [==============================] - 0s 32us/step - loss: 1.3285 - accuracy: 0.5456\n",
      "Epoch 44/100\n",
      "900/900 [==============================] - 0s 34us/step - loss: 1.3194 - accuracy: 0.5456\n",
      "Epoch 45/100\n",
      "900/900 [==============================] - 0s 29us/step - loss: 1.3119 - accuracy: 0.5467\n",
      "Epoch 46/100\n",
      "900/900 [==============================] - 0s 24us/step - loss: 1.3041 - accuracy: 0.5489\n",
      "Epoch 47/100\n",
      "900/900 [==============================] - 0s 31us/step - loss: 1.2980 - accuracy: 0.5522\n",
      "Epoch 48/100\n",
      "900/900 [==============================] - 0s 27us/step - loss: 1.2894 - accuracy: 0.5611\n",
      "Epoch 49/100\n",
      "900/900 [==============================] - 0s 26us/step - loss: 1.2817 - accuracy: 0.5600\n",
      "Epoch 50/100\n",
      "900/900 [==============================] - 0s 31us/step - loss: 1.2744 - accuracy: 0.5622\n",
      "Epoch 51/100\n",
      "900/900 [==============================] - 0s 30us/step - loss: 1.2675 - accuracy: 0.5578\n",
      "Epoch 52/100\n",
      "900/900 [==============================] - 0s 26us/step - loss: 1.2610 - accuracy: 0.5556\n",
      "Epoch 53/100\n",
      "900/900 [==============================] - 0s 18us/step - loss: 1.2540 - accuracy: 0.5544\n",
      "Epoch 54/100\n",
      "900/900 [==============================] - 0s 24us/step - loss: 1.2469 - accuracy: 0.5578\n",
      "Epoch 55/100\n",
      "900/900 [==============================] - 0s 24us/step - loss: 1.2403 - accuracy: 0.5622\n",
      "Epoch 56/100\n",
      "900/900 [==============================] - 0s 28us/step - loss: 1.2341 - accuracy: 0.5644\n",
      "Epoch 57/100\n",
      "900/900 [==============================] - 0s 21us/step - loss: 1.2279 - accuracy: 0.5644\n",
      "Epoch 58/100\n",
      "900/900 [==============================] - 0s 30us/step - loss: 1.2222 - accuracy: 0.5644\n",
      "Epoch 59/100\n",
      "900/900 [==============================] - 0s 30us/step - loss: 1.2162 - accuracy: 0.5722\n",
      "Epoch 60/100\n",
      "900/900 [==============================] - 0s 28us/step - loss: 1.2106 - accuracy: 0.5711\n",
      "Epoch 61/100\n",
      "900/900 [==============================] - 0s 21us/step - loss: 1.2054 - accuracy: 0.5767\n",
      "Epoch 62/100\n",
      "900/900 [==============================] - 0s 30us/step - loss: 1.1995 - accuracy: 0.5767\n",
      "Epoch 63/100\n",
      "900/900 [==============================] - 0s 21us/step - loss: 1.1939 - accuracy: 0.5811\n",
      "Epoch 64/100\n",
      "900/900 [==============================] - 0s 19us/step - loss: 1.1881 - accuracy: 0.5889\n",
      "Epoch 65/100\n",
      "900/900 [==============================] - 0s 23us/step - loss: 1.1838 - accuracy: 0.5944\n",
      "Epoch 66/100\n",
      "900/900 [==============================] - 0s 19us/step - loss: 1.1784 - accuracy: 0.5911\n",
      "Epoch 67/100\n",
      "900/900 [==============================] - 0s 20us/step - loss: 1.1735 - accuracy: 0.5878\n",
      "Epoch 68/100\n",
      "900/900 [==============================] - 0s 34us/step - loss: 1.1681 - accuracy: 0.5944\n",
      "Epoch 69/100\n",
      "900/900 [==============================] - 0s 21us/step - loss: 1.1624 - accuracy: 0.5944\n",
      "Epoch 70/100\n",
      "900/900 [==============================] - 0s 25us/step - loss: 1.1576 - accuracy: 0.5967\n",
      "Epoch 71/100\n",
      "900/900 [==============================] - 0s 22us/step - loss: 1.1519 - accuracy: 0.6011\n",
      "Epoch 72/100\n",
      "900/900 [==============================] - 0s 21us/step - loss: 1.1472 - accuracy: 0.6056\n",
      "Epoch 73/100\n",
      "900/900 [==============================] - 0s 29us/step - loss: 1.1427 - accuracy: 0.5989\n",
      "Epoch 74/100\n",
      "900/900 [==============================] - 0s 30us/step - loss: 1.1378 - accuracy: 0.6067\n",
      "Epoch 75/100\n",
      "900/900 [==============================] - 0s 27us/step - loss: 1.1329 - accuracy: 0.6122\n",
      "Epoch 76/100\n",
      "900/900 [==============================] - 0s 27us/step - loss: 1.1284 - accuracy: 0.6100\n",
      "Epoch 77/100\n",
      "900/900 [==============================] - 0s 28us/step - loss: 1.1244 - accuracy: 0.6100\n",
      "Epoch 78/100\n",
      "900/900 [==============================] - 0s 25us/step - loss: 1.1206 - accuracy: 0.6144\n",
      "Epoch 79/100\n",
      "900/900 [==============================] - 0s 30us/step - loss: 1.1174 - accuracy: 0.6222\n",
      "Epoch 80/100\n"
     ]
    },
    {
     "name": "stdout",
     "output_type": "stream",
     "text": [
      "900/900 [==============================] - 0s 23us/step - loss: 1.1114 - accuracy: 0.6244\n",
      "Epoch 81/100\n",
      "900/900 [==============================] - 0s 32us/step - loss: 1.1060 - accuracy: 0.6289\n",
      "Epoch 82/100\n",
      "900/900 [==============================] - 0s 26us/step - loss: 1.1027 - accuracy: 0.6200\n",
      "Epoch 83/100\n",
      "900/900 [==============================] - 0s 24us/step - loss: 1.0999 - accuracy: 0.6278\n",
      "Epoch 84/100\n",
      "900/900 [==============================] - 0s 19us/step - loss: 1.0943 - accuracy: 0.6311\n",
      "Epoch 85/100\n",
      "900/900 [==============================] - 0s 21us/step - loss: 1.0897 - accuracy: 0.6333\n",
      "Epoch 86/100\n",
      "900/900 [==============================] - 0s 22us/step - loss: 1.0857 - accuracy: 0.6322\n",
      "Epoch 87/100\n",
      "900/900 [==============================] - 0s 18us/step - loss: 1.0813 - accuracy: 0.6344\n",
      "Epoch 88/100\n",
      "900/900 [==============================] - 0s 24us/step - loss: 1.0781 - accuracy: 0.6333\n",
      "Epoch 89/100\n",
      "900/900 [==============================] - 0s 19us/step - loss: 1.0737 - accuracy: 0.6311\n",
      "Epoch 90/100\n",
      "900/900 [==============================] - 0s 19us/step - loss: 1.0682 - accuracy: 0.6289\n",
      "Epoch 91/100\n",
      "900/900 [==============================] - 0s 24us/step - loss: 1.0643 - accuracy: 0.6344\n",
      "Epoch 92/100\n",
      "900/900 [==============================] - 0s 19us/step - loss: 1.0596 - accuracy: 0.6344\n",
      "Epoch 93/100\n",
      "900/900 [==============================] - 0s 21us/step - loss: 1.0574 - accuracy: 0.6444\n",
      "Epoch 94/100\n",
      "900/900 [==============================] - 0s 20us/step - loss: 1.0526 - accuracy: 0.6456\n",
      "Epoch 95/100\n",
      "900/900 [==============================] - 0s 24us/step - loss: 1.0491 - accuracy: 0.6456\n",
      "Epoch 96/100\n",
      "900/900 [==============================] - 0s 19us/step - loss: 1.0452 - accuracy: 0.6444\n",
      "Epoch 97/100\n",
      "900/900 [==============================] - 0s 21us/step - loss: 1.0422 - accuracy: 0.6422\n",
      "Epoch 98/100\n",
      "900/900 [==============================] - 0s 23us/step - loss: 1.0375 - accuracy: 0.6456\n",
      "Epoch 99/100\n",
      "900/900 [==============================] - 0s 21us/step - loss: 1.0343 - accuracy: 0.6489\n",
      "Epoch 100/100\n",
      "900/900 [==============================] - 0s 26us/step - loss: 1.0320 - accuracy: 0.6522\n"
     ]
    }
   ],
   "source": [
    "hist = model.fit(x_train, y_train, epochs=100, batch_size=64)"
   ]
  },
  {
   "cell_type": "code",
   "execution_count": 9,
   "metadata": {
    "scrolled": true
   },
   "outputs": [
    {
     "data": {
      "image/png": "[encoded data removed]",
      "text/plain": [
       "<Figure size 576x288 with 2 Axes>"
      ]
     },
     "metadata": {
      "needs_background": "light"
     },
     "output_type": "display_data"
    }
   ],
   "source": [
    "plt.figure(figsize=(8, 4))\n",
    "plt.subplot(1, 2, 1)\n",
    "plt.plot(hist.history['loss'])\n",
    "plt.title(\"The loss function Graph in train\")\n",
    "plt.ylabel(\"The value of loss function\")\n",
    "plt.subplot(1, 2, 2)\n",
    "plt.title(\"The estimator of performance in train\")\n",
    "plt.ylabel(\"The value that is the esitimator of perfromace\")\n",
    "plt.plot(hist.history['accuracy'], 'b-', label=\"Learning Performance\")\n",
    "plt.legend()\n",
    "plt.tight_layout()\n",
    "plt.show()"
   ]
  },
  {
   "cell_type": "code",
   "execution_count": 10,
   "metadata": {},
   "outputs": [],
   "source": [
    "#https://datascienceschool.net/view-notebook/51e147088d474fe1bf32e394394eaea7/\n",
    "#모델 사용"
   ]
  },
  {
   "cell_type": "code",
   "execution_count": 11,
   "metadata": {},
   "outputs": [],
   "source": [
    "yhat = model.predict(x_test)"
   ]
  },
  {
   "cell_type": "code",
   "execution_count": 12,
   "metadata": {},
   "outputs": [
    {
     "data": {
      "text/plain": [
       "array([[0.04266368, 0.00838279, 0.35538685, 0.11754276, 0.05834606,\n",
       "        0.07904664, 0.00872631, 0.09737969, 0.18778063, 0.0447446 ]],\n",
       "      dtype=float32)"
      ]
     },
     "execution_count": 12,
     "metadata": {},
     "output_type": "execute_result"
    }
   ],
   "source": [
    "yhat[3:4]"
   ]
  },
  {
   "cell_type": "code",
   "execution_count": 13,
   "metadata": {},
   "outputs": [
    {
     "data": {
      "text/html": [
       "<div>\n",
       "<style scoped>\n",
       "    .dataframe tbody tr th:only-of-type {\n",
       "        vertical-align: middle;\n",
       "    }\n",
       "\n",
       "    .dataframe tbody tr th {\n",
       "        vertical-align: top;\n",
       "    }\n",
       "\n",
       "    .dataframe thead th {\n",
       "        text-align: right;\n",
       "    }\n",
       "</style>\n",
       "<table border=\"1\" class=\"dataframe\">\n",
       "  <thead>\n",
       "    <tr style=\"text-align: right;\">\n",
       "      <th></th>\n",
       "      <th>blues</th>\n",
       "      <th>classical</th>\n",
       "      <th>country</th>\n",
       "      <th>disco</th>\n",
       "      <th>hiphop</th>\n",
       "      <th>jazz</th>\n",
       "      <th>metal</th>\n",
       "      <th>pop</th>\n",
       "      <th>reggae</th>\n",
       "      <th>rock</th>\n",
       "    </tr>\n",
       "  </thead>\n",
       "  <tbody>\n",
       "    <tr>\n",
       "      <td>2</td>\n",
       "      <td>1</td>\n",
       "      <td>0</td>\n",
       "      <td>0</td>\n",
       "      <td>0</td>\n",
       "      <td>0</td>\n",
       "      <td>0</td>\n",
       "      <td>0</td>\n",
       "      <td>0</td>\n",
       "      <td>0</td>\n",
       "      <td>0</td>\n",
       "    </tr>\n",
       "  </tbody>\n",
       "</table>\n",
       "</div>"
      ],
      "text/plain": [
       "   blues  classical  country  disco  hiphop  jazz  metal  pop  reggae  rock\n",
       "2      1          0        0      0       0     0      0    0       0     0"
      ]
     },
     "execution_count": 13,
     "metadata": {},
     "output_type": "execute_result"
    }
   ],
   "source": [
    "y_train[3:4]"
   ]
  },
  {
   "cell_type": "code",
   "execution_count": 14,
   "metadata": {},
   "outputs": [],
   "source": [
    "yhat[3:4]\n",
    "result = yhat[3:4]"
   ]
  },
  {
   "cell_type": "code",
   "execution_count": 15,
   "metadata": {},
   "outputs": [
    {
     "name": "stdout",
     "output_type": "stream",
     "text": [
      "다음 장르는 : country\n"
     ]
    }
   ],
   "source": [
    "labelList = yData.columns\n",
    "length = len(labelList)\n",
    "index_label = 0 \n",
    "for i in labelList:\n",
    "    if index_label == np.argmax(result):\n",
    "        print(\"다음 장르는 :\",i,)\n",
    "    index_label += 1\n",
    " #값이 가장 큰 값 -> 분류에서 1에 가까울 수록, 라벨링, yhat[5:6].max()"
   ]
  },
  {
   "cell_type": "code",
   "execution_count": null,
   "metadata": {},
   "outputs": [],
   "source": []
  },
  {
   "cell_type": "code",
   "execution_count": null,
   "metadata": {},
   "outputs": [],
   "source": []
  },
  {
   "cell_type": "code",
   "execution_count": null,
   "metadata": {},
   "outputs": [],
   "source": []
  },
  {
   "cell_type": "code",
   "execution_count": null,
   "metadata": {},
   "outputs": [],
   "source": []
  }
 ],
 "metadata": {
  "kernelspec": {
   "display_name": "Python 3",
   "language": "python",
   "name": "python3"
  },
  "language_info": {
   "codemirror_mode": {
    "name": "ipython",
    "version": 3
   },
   "file_extension": ".py",
   "mimetype": "text/x-python",
   "name": "python",
   "nbconvert_exporter": "python",
   "pygments_lexer": "ipython3",
   "version": "3.7.4"
  }
 },
 "nbformat": 4,
 "nbformat_minor": 2
}
